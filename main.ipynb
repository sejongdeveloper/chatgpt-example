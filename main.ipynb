{
 "cells": [
  {
   "cell_type": "code",
   "execution_count": 5,
   "metadata": {},
   "outputs": [],
   "source": [
    "from langchain.chat_models import ChatOpenAI\n",
    "\n",
    "\"\"\"\n",
    "temperature 파라미터 의미\n",
    "값이 낮을수록 (0.1): 일관성 있으며 정확한 경향으로 답변\n",
    "값이 높을수록 (1.0): 창의적이며 무작위로 답변\n",
    "\"\"\"\n",
    "chat = ChatOpenAI(\n",
    "    temperature=0.1,\n",
    ")"
   ]
  },
  {
   "cell_type": "code",
   "execution_count": 6,
   "metadata": {},
   "outputs": [
    {
     "data": {
      "text/plain": [
       "AIMessage(content='1+1은 2입니다. 제 이름은 홍길동입니다.')"
      ]
     },
     "execution_count": 6,
     "metadata": {},
     "output_type": "execute_result"
    }
   ],
   "source": [
    "from langchain.schema import HumanMessage, AIMessage, SystemMessage\n",
    "\n",
    "chat.predict_messages(\n",
    "    messages=[\n",
    "        SystemMessage(content=\"당신은 수학 전문가입니다. 그리고 한국어로만 답변합니다.\"),\n",
    "        AIMessage(content=\"제 이름은 홍길동입니다.\"),\n",
    "        HumanMessage(content=\"1+1은 얼마입니까? 그리고 당신의 이름은 무엇입니까?\"),\n",
    "    ],\n",
    ")"
   ]
  }
 ],
 "metadata": {
  "kernelspec": {
   "display_name": "env",
   "language": "python",
   "name": "python3"
  },
  "language_info": {
   "codemirror_mode": {
    "name": "ipython",
    "version": 3
   },
   "file_extension": ".py",
   "mimetype": "text/x-python",
   "name": "python",
   "nbconvert_exporter": "python",
   "pygments_lexer": "ipython3",
   "version": "3.11.0"
  }
 },
 "nbformat": 4,
 "nbformat_minor": 2
}
